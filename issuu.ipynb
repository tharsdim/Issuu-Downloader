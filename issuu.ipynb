{
 "cells": [
  {
   "cell_type": "code",
   "execution_count": 61,
   "metadata": {},
   "outputs": [],
   "source": [
    "from requests import get\n",
    "import requests\n",
    "import wget\n",
    "import os\n",
    "from bs4 import BeautifulSoup\n",
    "\n",
    "def create_pdf():\n",
    "    from fpdf import FPDF\n",
    "    #pdf = FPDF()\n",
    "    pdf = FPDF('P','mm','A4') # create an A4-size pdf document \n",
    "    # imagelist is the list with all image filenames\n",
    "    for image in document:\n",
    "        x,y,w,h = 0,0,200,250\n",
    "        pdf.add_page()\n",
    "        pdf.image(image,x,y,w,h)\n",
    "    pdf.output(pdfoutput, \"F\")\n"
   ]
  },
  {
   "cell_type": "code",
   "execution_count": 62,
   "metadata": {},
   "outputs": [],
   "source": [
    "#SETTINGS\n",
    "\n",
    "deleteimages=\"y\"\n",
    "down='D:\\Dropbox\\WGET' # target directory\n",
    "format='jpg'"
   ]
  },
  {
   "cell_type": "code",
   "execution_count": 63,
   "metadata": {},
   "outputs": [],
   "source": [
    "def mk_folder():\n",
    "    if not os.path.exists(dd):\n",
    "                   os.makedirs(dd)\n",
    "def download_images():\n",
    "    for link in linkslist:\n",
    "          wget.download(link,dd)"
   ]
  },
  {
   "cell_type": "code",
   "execution_count": 64,
   "metadata": {},
   "outputs": [
    {
     "name": "stdout",
     "output_type": "stream",
     "text": [
      "Issuu Pub Url: https://issuu.com/chenzhijin/docs/20180912___-ol-2\n"
     ]
    }
   ],
   "source": [
    "url = input('Issuu Pub Url: ')"
   ]
  },
  {
   "cell_type": "code",
   "execution_count": 65,
   "metadata": {},
   "outputs": [
    {
     "name": "stdout",
     "output_type": "stream",
     "text": [
      "2018-SHINZITIY-34周年慶\n"
     ]
    }
   ],
   "source": [
    "#cooking\n",
    "\n",
    "response = get(url)\n",
    "html_soup = BeautifulSoup(response.text, 'html.parser')\n",
    "#id=html_soup.find('meta',{property:'og:image:secure_url'})\n",
    "id=html_soup.find(\"meta\",  property=\"og:image\")['content']\n",
    "id=id.replace('_1.jpg','')\n",
    "title=html_soup.find(\"meta\",  property=\"og:title\")['content']\n",
    "title=title.replace(' ','-')\n",
    "print(title)"
   ]
  },
  {
   "cell_type": "code",
   "execution_count": 66,
   "metadata": {},
   "outputs": [
    {
     "name": "stdout",
     "output_type": "stream",
     "text": [
      "D:\\Dropbox\\WGET\\2018-SHINZITIY-34周年慶\n",
      "100% [..............................................................................] 40368 / 40368"
     ]
    }
   ],
   "source": [
    "dd=down+'\\\\'+title\n",
    "pdfoutput=dd+'\\\\'+title+'.pdf'\n",
    "print(dd)\n",
    "mk_folder()\n",
    "document=[]\n",
    "for number in range(1,600):\n",
    "    url=id+'_'+str(number)+'.'+format\n",
    "    localfile=dd+'\\\\'+'page_'+str(number)+'.'+format\n",
    "    file=requests.get(url)\n",
    "    x,y,w,h = 0,0,200,250\n",
    "    if file.status_code == 200:\n",
    "        wget.download(url,dd)\n",
    "        document.append(localfile)\n",
    "    else:\n",
    "        break\n",
    "\n",
    "create_pdf()\n",
    "if deleteimages=='y':\n",
    "    for file in document:\n",
    "        os.remove(file)\n",
    "print(\"FINISHED\")"
   ]
  },
  {
   "cell_type": "code",
   "execution_count": null,
   "metadata": {},
   "outputs": [],
   "source": []
  }
 ],
 "metadata": {
  "kernelspec": {
   "display_name": "Python 3",
   "language": "python",
   "name": "python3"
  },
  "language_info": {
   "codemirror_mode": {
    "name": "ipython",
    "version": 3
   },
   "file_extension": ".py",
   "mimetype": "text/x-python",
   "name": "python",
   "nbconvert_exporter": "python",
   "pygments_lexer": "ipython3",
   "version": "3.7.0"
  }
 },
 "nbformat": 4,
 "nbformat_minor": 2
}
